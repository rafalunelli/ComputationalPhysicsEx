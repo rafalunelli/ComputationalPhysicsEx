{
 "cells": [
  {
   "cell_type": "markdown",
   "metadata": {},
   "source": [
    "# Avaliação 3\n",
    "## FSC5705 - Física Computacional\n",
    "\n",
    "Use as células abaixo das questões, não crie células novas. Também, não modifique o que já está programado, apenas escreva o seu código substituindo a região marcada por:\n",
    "\n",
    "```\n",
    "# YOUR CODE HERE\n",
    "raise NotImplementedError()\n",
    "```"
   ]
  },
  {
   "cell_type": "markdown",
   "metadata": {},
   "source": [
    "### Questão 1\n",
    "\n",
    "Considere a equação\n",
    "\n",
    "$$\n",
    "x = 1 - \\mathrm{e}^{-cx},\n",
    "$$\n",
    "\n",
    "onde $c$ é um parâmetro conhecido e $x$ desconhecido. Esta equação surge em diversas situações, incluindo na física de processos de contato.\n",
    "\n",
    "**a (2 pontos)** Resolva esta equação para $x$ usando o método do ponto fixo, no caso em que $c = 2$. Estime a solução com uma precisão de $10^{-6}$."
   ]
  },
  {
   "cell_type": "code",
   "execution_count": 1,
   "metadata": {
    "deletable": false,
    "nbgrader": {
     "cell_type": "code",
     "checksum": "5a7ef03f860ec73409dd3cb5e10e14e9",
     "grade": true,
     "grade_id": "cell-0503e48f4c420ae5",
     "locked": false,
     "points": 2,
     "schema_version": 3,
     "solution": true,
     "task": false
    }
   },
   "outputs": [],
   "source": [
    "import numpy as np\n",
    "import matplotlib.pyplot as plt"
   ]
  },
  {
   "cell_type": "code",
   "execution_count": 2,
   "metadata": {
    "deletable": false,
    "nbgrader": {
     "cell_type": "code",
     "checksum": "5a7ef03f860ec73409dd3cb5e10e14e9",
     "grade": true,
     "grade_id": "cell-0503e48f4c420ae5",
     "locked": false,
     "points": 2,
     "schema_version": 3,
     "solution": true,
     "task": false
    }
   },
   "outputs": [
    {
     "name": "stdout",
     "output_type": "stream",
     "text": [
      "A solução para x é 0.796811.\n"
     ]
    }
   ],
   "source": [
    "def f(x,c):\n",
    "    return 1.0 - np.exp(-c*x)\n",
    "\n",
    "def ponto_fixo(f, x0, epsilon, N, c):\n",
    "    \n",
    "    x1 = x0\n",
    "    delta1 = 1.0\n",
    "    for n in range(N):\n",
    "        x2 = f(x1,c)\n",
    "        delta2 = x2 - x1\n",
    "        epsilon2 = delta2**2 / (delta2 - delta1)\n",
    "        if np.abs(epsilon2) < epsilon:\n",
    "            break\n",
    "        else:\n",
    "            x1 = x2\n",
    "            delta1 = delta2\n",
    "    return x2\n",
    "\n",
    "x0 = 0.5\n",
    "epsilon = 1e-6\n",
    "N = 100\n",
    "c = 2\n",
    "x = ponto_fixo(f, x0, epsilon, N, c)\n",
    "print(f'A solução para x é {x:.6f}.')"
   ]
  },
  {
   "cell_type": "markdown",
   "metadata": {},
   "source": [
    "**b (2 pontos)** Calcule a solução agora variando $c$ entre $0$ e $3$, em passos de $0.01$. Faça um gráfico de $x$ em função de $c$. Você deverá ver uma transição clara entre um regime em que $x = 0$ e outro em que $x \\neq 0$. Este é um exemplo importante de transição de fase – na Física, esta transição é cohecida como *transição de percolação*.\n",
    "\n",
    "*Nota: é possível que em alguns pontos a equação demore bastante para convergir. Use um $N$ grande o suficiente para que a curva não apresente descontinuidades (exceto a própria transição de fase).*"
   ]
  },
  {
   "cell_type": "code",
   "execution_count": 3,
   "metadata": {
    "deletable": false,
    "nbgrader": {
     "cell_type": "code",
     "checksum": "5625fbaffeba82fb3bb11f3b5e8e6d62",
     "grade": true,
     "grade_id": "cell-17857dbedc633abc",
     "locked": false,
     "points": 2,
     "schema_version": 3,
     "solution": true,
     "task": false
    }
   },
   "outputs": [
    {
     "data": {
      "image/png": "[encoded data removed]",
      "text/plain": [
       "<Figure size 432x288 with 1 Axes>"
      ]
     },
     "metadata": {
      "needs_background": "light"
     },
     "output_type": "display_data"
    }
   ],
   "source": [
    "#Usando as funções anteriores\n",
    "\n",
    "x0 = 0.5\n",
    "epsilon = 1e-6\n",
    "N = 300\n",
    "c = np.arange(0,3,0.01)\n",
    "\n",
    "x = []\n",
    "for it in c:\n",
    "    x.append(ponto_fixo(f, x0, epsilon, N, it))\n",
    "\n",
    "fig, axes = plt.subplots()\n",
    "axes.plot(c, x)\n",
    "axes.set_xlabel('Valores de c')  \n",
    "axes.set_ylabel('Valores de x')\n",
    "plt.show()"
   ]
  },
  {
   "cell_type": "markdown",
   "metadata": {},
   "source": [
    "### Questão 2\n",
    "\n",
    "Considere o polinômio de Legendre de sexta ordem, mapeado em $0 \\leq x \\leq 1$.\n",
    "\n",
    "$$\n",
    "P_6(x) = 924 x^6 - 2772 x^5 + 3150 x^4 - 1680 x^3 + 420 x^2 - 42 x + 1.\n",
    "$$\n",
    "\n",
    "As raízes deste polinômio são os pontos de amostragem do método de integração da quadratura gaussiana, com $N = 6$.  Não existe uma fórmula geral para encontrar as raízes de um polinômio de sexta ordem, mas podemos encontrá-las facilmente usando um computador. O Método de Newton é muito usado para determinar as raízes deste tipo de polinômio.\n",
    "\n",
    "**a. (2 pontos)** Faça um gráfico de $P_6(x)$ no intervalos $0 \\leq x \\leq 1$ e, de inspeção visual, guarde valores aproximados para as seis raízes desse polinômio."
   ]
  },
  {
   "cell_type": "code",
   "execution_count": 7,
   "metadata": {
    "deletable": false,
    "nbgrader": {
     "cell_type": "code",
     "checksum": "b602adb7dd94803f653228198e820dc3",
     "grade": true,
     "grade_id": "cell-b12c9d9ef8f0d41e",
     "locked": false,
     "points": 2,
     "schema_version": 3,
     "solution": true,
     "task": false
    }
   },
   "outputs": [
    {
     "data": {
      "image/png": "[encoded data removed]",
      "text/plain": [
       "<Figure size 432x288 with 1 Axes>"
      ]
     },
     "metadata": {
      "needs_background": "light"
     },
     "output_type": "display_data"
    }
   ],
   "source": [
    "def P_6(x):\n",
    "    return 924*x**6 - 2772*x**5 + 3150*x**4 - 1680*x**3 + 420*x**2 - 42*x + 1\n",
    "\n",
    "x = np.linspace(0, 1.0, 1000)\n",
    "fig, ax = plt.subplots()\n",
    "ax.plot(x, P_6(x))\n",
    "ax.axhline([0], ls='--', color='k')\n",
    "plt.show()\n",
    "\n",
    "R1 = 0.03\n",
    "R2 = 0.17\n",
    "R3 = 0.39\n",
    "R4 = 0.60\n",
    "R5 = 0.80\n",
    "R6 = 0.95"
   ]
  },
  {
   "cell_type": "markdown",
   "metadata": {},
   "source": [
    "**b. (2 pontos)** Escreva um programa que encontre essas raízes com uma precisão de 10 casas decimais, usando o método de Newton. Desenhe novamente o gráfico da função, e faça anotações no gráfico com a posição das raízes encontradas."
   ]
  },
  {
   "cell_type": "code",
   "execution_count": 8,
   "metadata": {
    "deletable": false,
    "nbgrader": {
     "cell_type": "code",
     "checksum": "0f3f9c5a6445f6dcb7c65ec9f3d5db39",
     "grade": true,
     "grade_id": "cell-26c2f1793e0b22a6",
     "locked": false,
     "points": 2,
     "schema_version": 3,
     "solution": true,
     "task": false
    }
   },
   "outputs": [
    {
     "name": "stdout",
     "output_type": "stream",
     "text": [
      "R1 =  0.0335761984\n",
      "R2 =  0.1693944274\n",
      "R3 =  0.3806006456\n",
      "R4 =  0.6199177345\n",
      "R5 =  0.8358676804\n",
      "R6 =  0.9717071689\n"
     ]
    },
    {
     "data": {
      "image/png": "[encoded data removed]",
      "text/plain": [
       "<Figure size 432x288 with 1 Axes>"
      ]
     },
     "metadata": {
      "needs_background": "light"
     },
     "output_type": "display_data"
    }
   ],
   "source": [
    "def P_6(x):\n",
    "    return 924*x**6 - 2772*x**5 + 3150*x**4 - 1680*x**3 + 420*x**2 - 42*x + 1\n",
    "\n",
    "def P_6_(x):  #derivada:\n",
    "    return 6*924*x**5 - 5*2772*x**4 + 4*3150*x**3 - 3*1680*x**2 + 2*420*x - 42\n",
    "\n",
    "epsilon = 1e-12\n",
    "N = 100\n",
    "prs = 1e-10\n",
    "\n",
    "def Raizes_P_6(x, N, epsilon):\n",
    "    for n in range(N):\n",
    "        x2 = x - (P_6(x)/ P_6_(x))\n",
    "        epsilon_n = x2 - x\n",
    "        x = x2\n",
    "        if np.abs(epsilon_n) < prs:\n",
    "            break\n",
    "        return [x,n]\n",
    "    \n",
    "Chutes_R = [R1, R2, R3, R4, R5, R6]\n",
    "Rn_vet = []\n",
    "cont = 0\n",
    "\n",
    "for i in Chutes_R:\n",
    "    cont+=1\n",
    "    Rn = Raizes_P_6(i,10, epsilon)\n",
    "    Rn_vet.append(Rn[0])\n",
    "    print(f'R{cont} = {Rn[0]: .10f}')\n",
    "    \n",
    "#Grafico\n",
    "\n",
    "vet_x = np.arange(0,1,0.01)\n",
    "vet_y = P_6(vet_x)\n",
    "cont = 0\n",
    "    \n",
    "fig, ax = plt.subplots()\n",
    "\n",
    "ax.plot(vet_x, vet_y, label='P_6(x)')\n",
    "ax.axhline([0], ls='--', color='k')\n",
    "for j in Rn_vet:\n",
    "    cont+=1\n",
    "    ax.axvline([j], lw=1.0, ls='--', color='k',ymax=0.3)\n",
    "    ax.annotate(text=f'R{cont}', xy=(j-0.03, -0.44), rotation=90)\n",
    "\n",
    "plt.show()"
   ]
  },
  {
   "cell_type": "markdown",
   "metadata": {},
   "source": [
    "### Questão 3\n",
    "\n",
    "**(2 pontos)** Use o método da secante para encontrar a solução da equação\n",
    "\n",
    "$$\n",
    "\\mathrm{e}^{-x^2} = 2x.\n",
    "$$\n",
    "\n",
    "Não esqueça de fazer um `print()` do valor da solução, mostrar um gráfico da função ao redor da raiz, e fazer uma anotação da raiz no gráfico."
   ]
  },
  {
   "cell_type": "code",
   "execution_count": 10,
   "metadata": {
    "deletable": false,
    "nbgrader": {
     "cell_type": "code",
     "checksum": "9b1ec95e1bde8b292ba3c5fbe1d7af24",
     "grade": true,
     "grade_id": "cell-0006813d73f5967e",
     "locked": false,
     "points": 2,
     "schema_version": 3,
     "solution": true,
     "task": false
    }
   },
   "outputs": [
    {
     "name": "stdout",
     "output_type": "stream",
     "text": [
      "A solução é x = 0.4193648240191324\n",
      "\n",
      "\n",
      "\n"
     ]
    },
    {
     "data": {
      "image/png": "[encoded data removed]",
      "text/plain": [
       "<Figure size 432x288 with 1 Axes>"
      ]
     },
     "metadata": {
      "needs_background": "light"
     },
     "output_type": "display_data"
    }
   ],
   "source": [
    "def f(x):\n",
    "    return np.exp(-x**2) - 2*x\n",
    "\n",
    "def secante(f, x1, x2, epsilon, N=100):\n",
    "    for n in range(N):\n",
    "        x3 = x2 - f(x2) * (x2 - x1) / (f(x2) - f(x1))\n",
    "        delta = x3 - x2\n",
    "        x1 = x2\n",
    "        x2 = x3\n",
    "        if np.abs(delta) < epsilon:\n",
    "            break\n",
    "            \n",
    "    # Alertar o usuário se a solução não convergiu.\n",
    "    if (n + 1) == N:\n",
    "        print('AVISO: secante() não convergiu!')\n",
    "    return x2\n",
    "\n",
    "epsilon = 1e-12\n",
    "\n",
    "x_a = secante(f, -0.5, 0.0, epsilon)\n",
    "print(f'A solução é x = {x_a}\\n\\n\\n')\n",
    "\n",
    "x = np.linspace(0, 1.0, 100000)\n",
    "fig, ax = plt.subplots()\n",
    "ax.plot(x, f(x))\n",
    "ax.set_ylim(-1.0, 1.0)\n",
    "ax.axhline([0], ls='--', color='k')\n",
    "ax.set_xlabel(r'$x$')\n",
    "ax.set_ylabel(r'$ f(x)$')\n",
    "ax.scatter(x=x_a, y=0, c='r')\n",
    "ax.text(0.5 , 0.1 , r'Raiz: 0.419', fontsize=14)\n",
    "plt.show()"
   ]
  },
  {
   "cell_type": "code",
   "execution_count": null,
   "metadata": {},
   "outputs": [],
   "source": []
  }
 ],
 "metadata": {
  "kernelspec": {
   "display_name": "Python 3",
   "language": "python",
   "name": "python3"
  },
  "language_info": {
   "codemirror_mode": {
    "name": "ipython",
    "version": 3
   },
   "file_extension": ".py",
   "mimetype": "text/x-python",
   "name": "python",
   "nbconvert_exporter": "python",
   "pygments_lexer": "ipython3",
   "version": "3.6.12"
  }
 },
 "nbformat": 4,
 "nbformat_minor": 4
}
