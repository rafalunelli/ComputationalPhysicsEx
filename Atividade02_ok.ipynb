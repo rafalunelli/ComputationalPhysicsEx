{
 "cells": [
  {
   "cell_type": "markdown",
   "metadata": {},
   "source": [
    "# Avaliação 2\n",
    "## FSC5705 - Física Computacional\n",
    "\n",
    "Use as células abaixo das questões, não crie células novas. Também, não modifique o que já está programado, apenas escreva o seu código substituindo a região marcada por:\n",
    "\n",
    "```\n",
    "# YOUR CODE HERE\n",
    "raise NotImplementedError()\n",
    "```"
   ]
  },
  {
   "cell_type": "markdown",
   "metadata": {},
   "source": [
    "### Questão 1\n",
    "\n",
    "**\\[3 pontos\\]** Considere a integral\n",
    "\n",
    "$$\n",
    "E(x) = \\frac{2}{\\sqrt{\\pi}} \\int_0^x \\mathrm{e}^{-t^2}\\ \\mathrm{d}t.\n",
    "$$\n",
    "\n",
    "Note que esta é uma integral definida, sobre a variável $t$, com o limite superior variável. Ou seja, o resultado é uma função de $x$, chamada de *função erro*, que aparece muito em cálculos de probabilidade. Não existe maneira conhecida de resolver esta integral analiticamente. A única forma de resolvê-la é numericamente.\n",
    "\n",
    "Escreva um programa para calcular $E(x)$, para $x = 1$. Escolha você mesmo o método e o número de intervalos. Use a função `np.exp()` para calcular a exponencial.\n",
    "*Resposta*: $E(1.0) \\approx 0.8427$."
   ]
  },
  {
   "cell_type": "code",
   "execution_count": 1,
   "metadata": {
    "deletable": false,
    "nbgrader": {
     "cell_type": "code",
     "checksum": "fd573e4ca6404eda61bd0315948d21d9",
     "grade": true,
     "grade_id": "cell-54205ce49d485392",
     "locked": false,
     "points": 3,
     "schema_version": 3,
     "solution": true,
     "task": false
    }
   },
   "outputs": [
    {
     "name": "stdout",
     "output_type": "stream",
     "text": [
      "Quadratura Gaussiana (N = 10) = 0.8427007929497149\n",
      "Integral analítica = 0.8427\n",
      "Erro relativo = 9.409632311493102e-07\n"
     ]
    }
   ],
   "source": [
    "from scipy.special import roots_legendre\n",
    "import numpy as np\n",
    "\n",
    "def f(t):\n",
    "    A = 2 / (np.pi)**(1/2)\n",
    "    return A * np.exp(-(t)**2)\n",
    "\n",
    "N = 10\n",
    "a = 0.0\n",
    "b = 1.0\n",
    "\n",
    "u, _w = roots_legendre(N)\n",
    "\n",
    "I = 0\n",
    "for k in range(N):\n",
    "    xk = (b - a) / 2 * u[k] + (b + a) / 2\n",
    "    wk = (b - a) / 2 * _w[k]\n",
    "    \n",
    "    I += wk * f(xk)\n",
    "\n",
    "I_target = 0.8427\n",
    "\n",
    "print(f'Quadratura Gaussiana (N = {N}) = {I}')\n",
    "print(f'Integral analítica = {I_target}')\n",
    "print(f'Erro relativo = {(I - I_target) / I_target}')"
   ]
  },
  {
   "cell_type": "markdown",
   "metadata": {},
   "source": [
    "### Questão 2\n",
    "\n",
    "**\\[3 pontos\\]** Programe a função abaixo tal que ela calcule $E(x)$ para um $x$ qualquer passado como parâmetro.\n",
    "Utilizando a função que você programou, calcule $E(1.0)$. O resultado deve ser igual ao do item anterior."
   ]
  },
  {
   "cell_type": "code",
   "execution_count": 4,
   "metadata": {
    "deletable": false,
    "nbgrader": {
     "cell_type": "code",
     "checksum": "89728be6001cca42c6d773c9fe5b817b",
     "grade": true,
     "grade_id": "cell-acef7d7e96fe56b3",
     "locked": false,
     "points": 3,
     "schema_version": 3,
     "solution": true,
     "task": false
    }
   },
   "outputs": [
    {
     "name": "stdout",
     "output_type": "stream",
     "text": [
      "E(1.0) = 0.8427007929497149\n"
     ]
    }
   ],
   "source": [
    "def integral_qgauss(f, a, b, N):\n",
    "    from scipy.special import roots_legendre \n",
    "\n",
    "    u, _w = roots_legendre(N)\n",
    "\n",
    "    I = 0\n",
    "    for k in range(N):\n",
    "        xk = (b - a) / 2 * u[k] + (b + a) / 2\n",
    "        wk = (b - a) / 2 * _w[k]\n",
    "        I += wk * f(xk)\n",
    "    return I\n",
    "\n",
    "def f(t):\n",
    "    return np.exp(-(t)**2)\n",
    "\n",
    "def erf(x):\n",
    "    '''\n",
    "    Parâmetros\n",
    "    ----------\n",
    "    x : float\n",
    "    Abscissa da função\n",
    "    \n",
    "    Retorna\n",
    "    -------\n",
    "    E : float\n",
    "    Função erro no ponto x\n",
    "    '''\n",
    "    I = integral_qgauss(f, 0, x, N)\n",
    "    A = 2 / (np.pi)**(1/2)\n",
    "    E = A * I\n",
    "    return E\n",
    "\n",
    "E_1 = erf(1.0)\n",
    "print(f'E(1.0) = {E_1}')"
   ]
  },
  {
   "cell_type": "markdown",
   "metadata": {},
   "source": [
    "### Questão 3\n",
    "\n",
    "**\\[4 pontos\\]** Usando a função programada acima, faça o gráfico de $E(x)$ para $-3 < x < 3$, com pontos em intervalos de $0.1$. Não esqueça das etiquetas dos eixos e do título.\n",
    "\n",
    "*Dicas: Use listas para guardar os valores a serem plotados, como foi feito nos gráficos do texto. Compare o seu gráfico com o que aparece na [página da Wikipedia sobre função erro](https://en.wikipedia.org/wiki/Error_function), para saber se o resultado está correto.*"
   ]
  },
  {
   "cell_type": "code",
   "execution_count": 3,
   "metadata": {
    "deletable": false,
    "nbgrader": {
     "cell_type": "code",
     "checksum": "a68ef5e790a6607bee6ad59bd5373327",
     "grade": true,
     "grade_id": "cell-d6d79977eb47d70b",
     "locked": false,
     "points": 4,
     "schema_version": 3,
     "solution": true,
     "task": false
    }
   },
   "outputs": [
    {
     "data": {
      "image/png": "[encoded data removed]",
      "text/plain": [
       "<Figure size 864x216 with 2 Axes>"
      ]
     },
     "metadata": {
      "needs_background": "light"
     },
     "output_type": "display_data"
    }
   ],
   "source": [
    "import matplotlib.pyplot as plt\n",
    "from skimage import io\n",
    "import numpy as np\n",
    "\n",
    "Xi = -3.0\n",
    "Xf = 3.0\n",
    "dx = 0.1\n",
    "\n",
    "X_range = np.arange(Xi, Xf + dx, dx)\n",
    "lista_E = []\n",
    "\n",
    "for x in X_range:\n",
    "    E = erf(x)\n",
    "    lista_E.append (E / 1e7)\n",
    "    \n",
    "fig, axes = plt.subplots(nrows=1, ncols=2, figsize=(12,3))\n",
    "axes[0].plot(X_range, lista_E)\n",
    "axes[0].set_xlabel(r'x')\n",
    "axes[0].set_ylabel(r'E(x)')\n",
    "axes[0].set_title('Função Erro')\n",
    "\n",
    "#Comparando com a imagem da Wikipédia, pode-se atestar que o resultado é muito bom, pelo menos quanto à forma.\n",
    "image = io.imread(\"https://upload.wikimedia.org/wikipedia/commons/thumb/2/2f/Error_Function.svg/800px-Error_Function.svg.png\")\n",
    "axes[1].imshow(image,aspect=\"auto\")\n",
    "axes[1].axis('off')\n",
    "plt.show()\n"
   ]
  },
  {
   "cell_type": "code",
   "execution_count": null,
   "metadata": {},
   "outputs": [],
   "source": []
  }
 ],
 "metadata": {
  "kernelspec": {
   "display_name": "Python 3",
   "language": "python",
   "name": "python3"
  },
  "language_info": {
   "codemirror_mode": {
    "name": "ipython",
    "version": 3
   },
   "file_extension": ".py",
   "mimetype": "text/x-python",
   "name": "python",
   "nbconvert_exporter": "python",
   "pygments_lexer": "ipython3",
   "version": "3.6.12"
  }
 },
 "nbformat": 4,
 "nbformat_minor": 4
}
