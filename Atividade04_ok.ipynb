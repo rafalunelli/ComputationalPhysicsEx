{
 "cells": [
  {
   "cell_type": "markdown",
   "metadata": {},
   "source": [
    "# Avaliação 4\n",
    "## FSC5705 - Física Computacional\n",
    "\n",
    "### Ajuste linear\n",
    "\n",
    "Apenas escreva o seu código na região marcada por:\n",
    "\n",
    "```\n",
    "# YOUR CODE HERE\n",
    "raise NotImplementedError()\n",
    "```\n",
    "Use as células originais, não crie células novas."
   ]
  },
  {
   "cell_type": "markdown",
   "metadata": {},
   "source": [
    "### Questão 1\n",
    "\n",
    "A terceira lei de Kepler relaciona as distâncias dos planetas até o Sol com o período de suas órbitas. Vamos tentar redescobrir esta lei usando técnicas um pouco mais modernas, explorando os dados da tabela abaixo. A coluna $R$ dá o semi-eixo maior da órbita do planeta, em unidades astronômicas ($\\mathrm{au}$), onde\n",
    "$1\\,\\mathrm{au} = 1.495978707 \\times 10^{11}\\,\\mathrm{m}$ é a distância média entre a Terra e o Sol. A Coluna $T$ contém o período orbital, em anos."
   ]
  },
  {
   "cell_type": "code",
   "execution_count": 2,
   "metadata": {},
   "outputs": [],
   "source": [
    "import numpy as np\n",
    "import matplotlib.pyplot as plt"
   ]
  },
  {
   "cell_type": "code",
   "execution_count": 3,
   "metadata": {},
   "outputs": [],
   "source": [
    "# Tabela de dados.\n",
    "# Fonte: Solar System Dynamics - JPL/NASA\n",
    "# Períodos: https://ssd.jpl.nasa.gov/?planet_phys_par\n",
    "# Distâncias: https://ssd.jpl.nasa.gov/txt/p_elem_t1.txt\n",
    "planetas = np.array([('Mercúrio', 0.38709927,   0.2408467),\n",
    "                     ('Vênus',    0.72333566,   0.61519726),\n",
    "                     ('Terra',    1.00000261,   1.0000174),\n",
    "                     ('Marte',    1.52371034,   1.8808476),\n",
    "                     ('Júpiter',  5.20288700,  11.862615),\n",
    "                     ('Saturno',  9.53667594,  29.447498),\n",
    "                     ('Urano',   19.18916464,  84.016846),\n",
    "                     ('Netuno',  30.06992276, 164.79132),\n",
    "                     ('Plutão 😢',  39.48211675, 247.92065)],\n",
    "                    dtype=[('nome', 'U8'), ('R', 'float64'), ('T', 'float64')])\n",
    "\n",
    "# Variáveis com arrays para acesso rápido.\n",
    "nome = planetas['nome']\n",
    "R = planetas['R']\n",
    "T = planetas['T']"
   ]
  },
  {
   "cell_type": "markdown",
   "metadata": {},
   "source": [
    "**a. (1 ponto)** Faça um gráfico da distância em função do período, usando escala logarítmica nos dois eixos."
   ]
  },
  {
   "cell_type": "code",
   "execution_count": 4,
   "metadata": {
    "deletable": false,
    "nbgrader": {
     "cell_type": "code",
     "checksum": "bb8ea92e32f75491feeeb7d0e374a9d6",
     "grade": true,
     "grade_id": "cell-9e8d58771e8b059e",
     "locked": false,
     "points": 1,
     "schema_version": 3,
     "solution": true,
     "task": false
    }
   },
   "outputs": [
    {
     "data": {
      "image/png": "[encoded data removed]",
      "text/plain": [
       "<Figure size 432x288 with 1 Axes>"
      ]
     },
     "metadata": {
      "needs_background": "light"
     },
     "output_type": "display_data"
    }
   ],
   "source": [
    "fig, axes = plt.subplots() \n",
    "axes.set_xlabel('Periodo (Anos)')\n",
    "axes.set_ylabel('Semi-eixo maior (m)')\n",
    "axes.set_title('Gráfico: distância em função do período em uma órbita')\n",
    "axes.set_xscale('log')\n",
    "axes.set_yscale('log')\n",
    "axes.plot(T , R * 1.495978707e11)\n",
    "plt.show()"
   ]
  },
  {
   "cell_type": "markdown",
   "metadata": {},
   "source": [
    "**b. (2 pontos)** Se tudo correu bem, você vai ver que os pontos formam aproximadamente uma linha reta no gráfico em escala logarítmica. Isto indica que as variáveis $R$ e $T$ estão relacionadas por uma lei de potência da forma\n",
    "\n",
    "\\begin{align}\n",
    "\\log R &= a + b \\log T \\\\\n",
    "\\log R &= \\log c + \\log (T^b) \\\\\n",
    "\\log R &= \\log (c\\,T^b) \\\\\n",
    "\\implies R &= cT^b, \\qquad c = 10^a.\n",
    "\\end{align}\n",
    "\n",
    "Kepler encontrou o expoente $b$ por tentativa e erro. Nós temos o luxo de usar ajuste linear. \n",
    "\n",
    "Crie variáveis contendo $\\log R$ e $\\log T$, lembrando que $\\log$ é o logaritmo em base 10, que em numpy é `np.log10()`. Como não temos dados de incerteza, admita que as incertezas são todas iguais a 1. Escrevendo o código explicitamente, faça um ajuste linear e imprima os valores dos coeficiente $a$ e $b$."
   ]
  },
  {
   "cell_type": "code",
   "execution_count": 5,
   "metadata": {
    "deletable": false,
    "nbgrader": {
     "cell_type": "code",
     "checksum": "dcacb45d42dbafb9a97fd96fc7a8f914",
     "grade": true,
     "grade_id": "cell-c6c80d078fb8604d",
     "locked": false,
     "points": 2,
     "schema_version": 3,
     "solution": true,
     "task": false
    }
   },
   "outputs": [
    {
     "name": "stdout",
     "output_type": "stream",
     "text": [
      "a = 0.0000082 Mpc, b = 0.66674 Mpc/Anos\n"
     ]
    }
   ],
   "source": [
    "log_T = np.log10(T)\n",
    "log_R = np.log10(R)\n",
    "\n",
    "\n",
    "s = np.full(len(log_T), 1.0)\n",
    "S = np.sum(s**-2)\n",
    "Sx = np.sum(log_T / s**2)\n",
    "Sy = np.sum(log_R / s**2)\n",
    "Sxy = np.sum(log_T * log_R / s**2)\n",
    "Sxx = np.sum(log_T**2 / s**2)\n",
    "delta = S * Sxx - Sx**2\n",
    "\n",
    "# Coeficientes do ajuste linear:\n",
    "a = (Sxx * Sy - Sx * Sxy) / delta\n",
    "b = (S * Sxy - Sx * Sy) / delta\n",
    "print(f'a = {a:.7f} Mpc, b = {b:.5f} Mpc/Anos')"
   ]
  },
  {
   "cell_type": "markdown",
   "metadata": {},
   "source": [
    "**c. (2 pontos)** O expoente da relação entre $T$ e $R$ é dado pelo coeficiente $b$. Veja que o valor é muito próximo de $2/3$, como de fato descobriu Kepler. Mas, o que está por trás do coeficiente linear, $a$? Vamos mostrar que podemos usá-lo para calcular a massa do Sol.\n",
    "\n",
    "Com o desenvolvimento da mecânica, Newton demonstrou que a terceira lei de Kepler é descrita por\n",
    "\n",
    "$$\n",
    "\\frac{R^3}{T^2} = \\frac{G (M + m)}{4 \\pi^2} \\approx \\frac{GM}{4 \\pi^2},\n",
    "$$\n",
    "\n",
    "onde $G$ é a constante gravitacional, $M$ é a massa do Sol, e $m$ é a massa do planeta (desprezível para nossos propósitos). Vamos expressar a nossa lei empírica nos mesmos termos da equação acima.\n",
    "\n",
    "\\begin{align}\n",
    "R &= c T^b \\\\\n",
    "R &= 10^a\\,T^b \\\\\n",
    "R^3 &= 10^{3a}\\,T^{3b} \\\\\n",
    "\\frac{R^3}{T^2} &= 10^{3a} \\frac{T^{3b}}{T^2} \\\\\n",
    "\\frac{R^3}{T^2} &= 10^{3a}\\,T^{3b - 2}.\n",
    "\\end{align}\n",
    "\n",
    "Verifique que $3b - 2 \\approx 10^{-4}$, logo $T^{3b - 2}$ vale 1 com uma boa precisão. Igualando as duas equações,\n",
    "\n",
    "\\begin{align}\n",
    "\\frac{R^3}{T^2} &= \\frac{GM}{4 \\pi^2} = 10^{3a} \\\\\n",
    "\\implies \\frac{GM}{4 \\pi^2} &= 10^{3a} \\\\\n",
    "M &= \\frac{4 \\pi^2 10^{3a}}{G}.\n",
    "\\end{align}\n",
    "\n",
    "A constante gravitacional $G$ pode ser medida por meios independentes, aqui mesmo na Terra. Sabemos que $G = 6.6743015 \\times 10^{-11}\\,\\mathrm{m}^3\\,\\mathrm{kg}^{-1}\\,\\mathrm{s}^{-2}$, ou, nas unidades do nosso problema, $G = 1.9853520 \\times 10^{-29}\\,\\mathrm{au}^3\\,\\mathrm{kg}^{-1}\\,\\mathrm{a}^{-2}$.\n",
    "\n",
    "Usando o coeficiente $a$ que você ajustou, calcule e imprima a massa do Sol, em quilogramas. Imprima também o erro relativo ao valor \"oficial\", $M_\\odot = (1.98847 \\pm 0.00007) \\times 10^{30}\\,\\mathrm{kg}$."
   ]
  },
  {
   "cell_type": "code",
   "execution_count": 6,
   "metadata": {
    "deletable": false,
    "nbgrader": {
     "cell_type": "code",
     "checksum": "c29e253e58ab608ed4f5c99d5074ff67",
     "grade": true,
     "grade_id": "cell-368d59e48be2ce9d",
     "locked": false,
     "points": 2,
     "schema_version": 3,
     "solution": true,
     "task": false
    }
   },
   "outputs": [
    {
     "name": "stdout",
     "output_type": "stream",
     "text": [
      "Massa: 1.9885975877168235e+30Kg, Erro relativo: 0.006416376250260946\n"
     ]
    }
   ],
   "source": [
    "def M(a):\n",
    "    return (4 * np.pi**2 * 10**(3*a) ) / G\n",
    "\n",
    "G = 1.9853520e-29 \n",
    "M_tab = 1.98847e30 \n",
    "\n",
    "Erro = (np.abs(M(a) - M_tab) / M_tab) * 100\n",
    "\n",
    "print(f'Massa: {M(a)}Kg, Erro relativo: {Erro}')"
   ]
  },
  {
   "cell_type": "markdown",
   "metadata": {},
   "source": [
    "### Questão 2\n",
    "\n",
    "Vamos agora descobrir que o universo está em expansão, de acordo com a lei de Hubble–Lemaître. No começo do século 20, com o desenvolvimento da Relatividade Geral, Alexander Friedmann, e logo depois Georges Lemaître, chegaram de forma independente em soluções nas quais o universo estava em expansão. Edwin Hubble usou estrelas variáveis do tipo cefeidas para calcular as distâncias de algumas galáxias próximas (determinar distâncias astronômicas é um problema enorme, veja a [Escada cósmica de distâncias](https://en.wikipedia.org/wiki/Cosmic_distance_ladder)). Juntando essas distâncias com medidas de velocidade provenientes do [*redshift*](https://en.wikipedia.org/wiki/Redshift#Measurement,_characterization,_and_interpretation) (desvio do espectro para o vermelho), ele obteve uma evidência observacional de que de fato o universo se expandia.\n",
    "\n",
    "Vamos usar alguns dados mais modernos de distâncias e redshifts de [Freedman et al (2001)](https://ui.adsabs.harvard.edu/abs/2001ApJ...553...47F/abstract) para tentar repetir o feito de Hubble. Queremos determinar a taxa em que o universo se expande.\n",
    "\n",
    "Considere a tabela abaixo. Temos a velocidade em que as galáxias se afastam de nós, $v$, em $\\mathrm{km}\\,\\mathrm{s}^{-1}$, obtida através do redshift de linhas espectrais. Temos também a distância $d$, em [megaparsecs](https://pt.wikipedia.org/wiki/Parsec) ($\\mathrm{Mpc}$), obtidas através de estrelas do tipo cefeidas."
   ]
  },
  {
   "cell_type": "code",
   "execution_count": 7,
   "metadata": {},
   "outputs": [],
   "source": [
    "galaxias = np.array([('IC 4182',321, 4.53),\n",
    "                     ('NGC 0300', 144, 2.02),\n",
    "                     ('NGC 0925', 553, 9.12),\n",
    "                     ('NGC 1326A', 1836, 16.14),\n",
    "                     ('NGC 1365', 1636, 17.22),\n",
    "                     ('NGC 1425', 1512, 20.89),\n",
    "                     ('NGC 2090', 931, 11.43),\n",
    "                     ('NGC 2403', 131, 3.13),\n",
    "                     ('NGC 2541', 559, 11.22),\n",
    "                     ('NGC 3031', -34, 3.55),\n",
    "                     ('NGC 3198', 662, 13.68),\n",
    "                     ('NGC 3351', 778, 13.43),\n",
    "                     ('NGC 3368', 897, 9.33),\n",
    "                     ('NGC 3621', 805, 9.86),\n",
    "                     ('NGC 4321', 1571, 6.55),\n",
    "                     ('NGC 4414', 716, 16.6),\n",
    "                     ('NGC 4496A', 1730, 14.52),\n",
    "                     ('NGC 4535', 1961, 14.79),\n",
    "                     ('NGC 4536', 1804, 14.45),\n",
    "                     ('NGC 4548', 486, 15),\n",
    "                     ('NGC 4639', 1010, 20.99),\n",
    "                     ('NGC 4725', 1206, 11.91),\n",
    "                     ('NGC 5253', 404, 3.25),\n",
    "                     ('NGC 7331', 816, 14.52)],\n",
    "                    dtype=[('nome', 'U10'), ('v', 'float64'), ('d', 'float64')])"
   ]
  },
  {
   "cell_type": "markdown",
   "metadata": {},
   "source": [
    "**a. (1 ponto)** Faça o gráfico dos pontos observados, usando a distância no eixo $x$ e a velocidade no eixo $y$."
   ]
  },
  {
   "cell_type": "code",
   "execution_count": 8,
   "metadata": {
    "deletable": false,
    "nbgrader": {
     "cell_type": "code",
     "checksum": "7e846fe3733f5bbb588058c73f2bdca8",
     "grade": true,
     "grade_id": "cell-849221f88e5b0571",
     "locked": false,
     "points": 1,
     "schema_version": 3,
     "solution": true,
     "task": false
    }
   },
   "outputs": [
    {
     "data": {
      "image/png": "[encoded data removed]",
      "text/plain": [
       "<Figure size 432x288 with 1 Axes>"
      ]
     },
     "metadata": {
      "needs_background": "light"
     },
     "output_type": "display_data"
    }
   ],
   "source": [
    "nome = galaxias['nome']\n",
    "d = galaxias['d']\n",
    "v = galaxias['v']\n",
    "\n",
    "fig, axes = plt.subplots() # Cria uma figura e um Axes\n",
    "axes.set_xlabel('Distância (Mpc)')\n",
    "axes.set_ylabel('Velocidade (km/s)')\n",
    "axes.set_title('Gráfico: distância x velocidade')\n",
    "axes.plot(d , v, 'o')\n",
    "plt.show()"
   ]
  },
  {
   "cell_type": "markdown",
   "metadata": {},
   "source": [
    "**b. (2 pontos)** Por incrível que pareça, Hubble tinha dados piores! Se o seu gráfico foi feito corretamente, você verá que existe uma certa tendência do redshift aumentar com a distância, com galáxias mais distantes se afastando com velocidades maiores. Para um astrofísico, uma tendência é mais que suficiente para justificar a busca por uma correlação, para derivar uma lei empírica. Se $v$ e $d$ formam uma relação linear, podemos escrever\n",
    "\n",
    "$$\n",
    "v = v_0 + H_0\\,d,\n",
    "$$\n",
    "\n",
    "onde $v_0$ é a velocidade se $d=0$, e $H_0$ é a constante de proporcionalidade entre $v$ e $d$, em unidades de $[\\mathrm{km}\\,\\mathrm{s}^{-1}\\,\\mathrm{Mpc}^{-1}]$. Use um ajuste linear, e determine (e imprima) estes coeficientes. Faça também o gráfico mostrando o ajuste, para ter certeza de que o ajuste funcionou. Como não temos as incertezas, admita que os erros são iguais a 1."
   ]
  },
  {
   "cell_type": "code",
   "execution_count": 9,
   "metadata": {
    "deletable": false,
    "nbgrader": {
     "cell_type": "code",
     "checksum": "fa63281718764e477c34544d25994a7e",
     "grade": true,
     "grade_id": "cell-3b9fce9c2e4af951",
     "locked": false,
     "points": 2,
     "schema_version": 3,
     "solution": true,
     "task": false
    }
   },
   "outputs": [
    {
     "name": "stdout",
     "output_type": "stream",
     "text": [
      "Ajuste linear: a = vo = 140.72 km/s , b = Ho = 68.52 km/(s*Mpc) \n"
     ]
    },
    {
     "data": {
      "image/png": "[encoded data removed]",
      "text/plain": [
       "<Figure size 432x288 with 1 Axes>"
      ]
     },
     "metadata": {
      "needs_background": "light"
     },
     "output_type": "display_data"
    }
   ],
   "source": [
    "# Ajuste Linear\n",
    "\n",
    "# Erro na medida da distenção, todos iguais a 1 \n",
    "s = np.full(len(d), 1.0)\n",
    "\n",
    "# Quantidades auxiliares (escalares, dependem apenas das medidas).\n",
    "S = np.sum(s**-2)\n",
    "Sx = np.sum(d / s**2)\n",
    "Sy = np.sum(v / s**2)\n",
    "Sxy = np.sum(d * v / s**2)\n",
    "Sxx = np.sum(d**2 / s**2)\n",
    "delta = S * Sxx - Sx**2\n",
    "\n",
    "# Melhor ajuste\n",
    "a = (Sxx * Sy - Sx * Sxy) / delta\n",
    "b = (S * Sxy - Sx * Sy) / delta\n",
    "print(f'Ajuste linear: a = vo = {a:.2f} km/s , b = Ho = {b:.2f} km/(s*Mpc) ')\n",
    "\n",
    "# Criando grafico\n",
    "fig, ax = plt.subplots() # Cria uma figura e um Axes\n",
    "ax.set_xlabel('Distância (Mpc)')\n",
    "ax.set_ylabel('Velocidade (km/s)')\n",
    "ax.set_title('Gráfico: distância x velocidade')\n",
    "ax.plot(d , v, 'o')\n",
    "ax.plot(d, a + b * d)\n",
    "plt.show()"
   ]
  },
  {
   "cell_type": "markdown",
   "metadata": {},
   "source": [
    "**c. (2 pontos)** Repare que o coeficiente linear $v_0$ do ajuste é muito pequeno, praticamente nulo em comparação com o espalhamento dos pontos no gráfico. Vamos considerar então que a nossa lei empírica é\n",
    "\n",
    "$$\n",
    "v = H_0\\,d.\n",
    "$$\n",
    "\n",
    "Esta é a lei de Hubble–Lemaître, onde $H_0$ é a chamada *constante de Hubble*. Ela sugere que as galáxias estão se afastando umas das outras, ou melhor, o universo está expandindo.\n",
    "\n",
    "Podemos agora explorar algumas consequências desta lei. Suponha que a velocidade de cada galáxia, em primeira aproximação, é constante no tempo. Da cinemática, temos\n",
    "\n",
    "$$\n",
    "v = \\frac{d}{T},\n",
    "$$\n",
    "\n",
    "onde $T$ é o tempo que a galáxia levou para percorrer a distância $d$. Comparand com a lei empírica que determinamos,\n",
    "\n",
    "$$\n",
    "c = \\frac{d}{T} = H_0 d \\\\\n",
    "\\implies T = \\frac{1}{H_0}.\n",
    "$$\n",
    "\n",
    "Isto é, o tempo que todas as galáxias viajaram é igual! Se voltarmos no tempo, estas galáxias se aproximam de nós até que, há um tempo $T$ atrás, $d=0$. Em outras palavras, estas galáxias estavam exatamente sobre a nossa. Você acabou de encontrar outra evidência, de que aparentemente todas as galáxias do Universo estavam muito próximas, há um tempo $T = H_0^{-1}$ atrás, chamado *tempo de Hubble*. Esta evidência evoluiu para se tornar o modelo cosmológico do Big Bang.\n",
    "\n",
    "Numa primeira aproximação, este tempo $T$ dá a idade do universo no modelo do Big Bang. Sabendo que $1\\,\\mathrm{Mpc} = 30.857 \\times 10^{18}\\,\\mathrm{km}$, e que 1 ano tem $31557600$ segundos, calcule a idade do universo, segundo os nossos dados. Imprima o resultado em bilhões de anos (1 bilhão $=10^9$).\n",
    "\n",
    "*Nota*: Segundo a [colaboração Planck](https://en.wikipedia.org/wiki/Age_of_the_universe#Planck), usando o modelo $\\Lambda\\mathrm{CDM}$ em vez da nossa aproximação grosseira, a constante de Hubble é $H_0 = 67.74 \\pm 0.46\\,\\mathrm{km}\\,\\mathrm{s}^{-1}\\,\\mathrm{Mpc}^{-1}$, e a idade do universo é de $(13.799 \\pm 0.021) \\times 10^9$ anos."
   ]
  },
  {
   "cell_type": "code",
   "execution_count": 10,
   "metadata": {
    "deletable": false,
    "nbgrader": {
     "cell_type": "code",
     "checksum": "b64c24d32de995429a0e965f7cc6107c",
     "grade": true,
     "grade_id": "cell-428da0e3074a0378",
     "locked": false,
     "points": 2,
     "schema_version": 3,
     "solution": true,
     "task": false
    }
   },
   "outputs": [
    {
     "name": "stdout",
     "output_type": "stream",
     "text": [
      "Ho = 68.52 km/s\n",
      "Idade do universo = 14.270 x 10^9 anos\n",
      "Erro: Ho = 1.15% e T = 3.41%\n"
     ]
    }
   ],
   "source": [
    "Ho = b    # km/(s*Mpc)\n",
    "\n",
    "# Fazendo ajuste dimensional:\n",
    "Ho_ = Ho*31557600/30.857e18   # anos^-1\n",
    "T = 1/Ho_    # anos\n",
    "\n",
    "print(f'Ho = {Ho:.2f} km/s')\n",
    "print(f'Idade do universo = {T/1e9:.3f} x 10^9 anos')\n",
    "\n",
    "Ho_tab = 67.74   # km/(s*Mpc)\n",
    "T_tab = 13.799   # *1e9\n",
    "\n",
    "# Erros\n",
    "erro_Ho = (np.abs(Ho - Ho_tab) / Ho_tab) * 100\n",
    "erro_T = (np.abs(T/1e9 - T_tab) / T_tab) * 100\n",
    "\n",
    "print(f'Erro: Ho = {erro_Ho:.2f}% e T = {erro_T:.2f}%')"
   ]
  },
  {
   "cell_type": "code",
   "execution_count": null,
   "metadata": {},
   "outputs": [],
   "source": []
  }
 ],
 "metadata": {
  "kernelspec": {
   "display_name": "Python 3 (ipykernel)",
   "language": "python",
   "name": "python3"
  },
  "language_info": {
   "codemirror_mode": {
    "name": "ipython",
    "version": 3
   },
   "file_extension": ".py",
   "mimetype": "text/x-python",
   "name": "python",
   "nbconvert_exporter": "python",
   "pygments_lexer": "ipython3",
   "version": "3.8.12"
  }
 },
 "nbformat": 4,
 "nbformat_minor": 4
}
